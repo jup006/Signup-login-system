{
 "cells": [
  {
   "cell_type": "markdown",
   "metadata": {},
   "source": [
    "# Project Description"
   ]
  },
  {
   "cell_type": "markdown",
   "metadata": {},
   "source": [
    "My project is a signup and login system for a website. When you run the program, it asks whether I have an account or not, if you answer no, it will lead the user to the signup page where it asks for username with all lowercase and integers and password with lowercase, uppercase, and integers. If the validation test is unsucessful, the user input will loop until it is successful. When received valid username and password, this pair will be saved into a dictionary. This dictionary is used when logging in. If a username that exist in the dictionary is entered, it will check whether the password user enters matches the username the user gave. If they do match, login is sucessful. \n",
    "\n",
    "There are two reasons why I chose this project. First, I wanted to make a signup/login page that could be used when I make my own website for my business. This purpose motaived me to find out about ways to resemble current signup/login system used by other known websites. Moreover, I wanted to get a taste of what cyber security algorithms looks like. For most companies or websites, two-step login or number verification are the most common ways to protect account beyond username/password. Since currently implemented cyber security systems are lacking in many companies, I, despite lacking programming knowledge and experience, wanted to explore why it is lacking and what kind of approach can be made to improve the security without making it more complicated. "
   ]
  },
  {
   "cell_type": "markdown",
   "metadata": {},
   "source": [
    "## Project Code\n",
    "\n",
    "If it makes sense for your project, you can have code and outputs here in the notebook as well."
   ]
  },
  {
   "cell_type": "code",
   "execution_count": 1,
   "metadata": {
    "scrolled": true
   },
   "outputs": [],
   "source": [
    "from my_module.functions import has_digits\n",
    "\n",
    "from my_module.functions import sign_up\n",
    "\n",
    "from my_module.functions import login\n",
    "\n",
    "from my_module.test_functions import test_has_digits\n",
    "\n",
    "from my_module.test_functions import test_sign_up\n",
    "\n",
    "from my_module.test_functions import test_login"
   ]
  },
  {
   "cell_type": "code",
   "execution_count": 2,
   "metadata": {},
   "outputs": [],
   "source": [
    "# Do a bunch of things."
   ]
  },
  {
   "cell_type": "code",
   "execution_count": 3,
   "metadata": {
    "scrolled": true
   },
   "outputs": [
    {
     "name": "stdout",
     "output_type": "stream",
     "text": [
      "Please choose your username with combination of lowercase letters and integerscogs18\n",
      "Username created: cogs18\n",
      "Your password must include uppercase letters and integers········\n",
      "Password created: Cogs18\n",
      "Type in you usernamecogs18\n",
      "Type in your password········\n",
      "Login sucessful!\n"
     ]
    }
   ],
   "source": [
    "# test it out\n",
    "test_has_digits()\n",
    "\n",
    "test_sign_up()\n",
    "\n",
    "test_login()"
   ]
  },
  {
   "cell_type": "code",
   "execution_count": 4,
   "metadata": {},
   "outputs": [
    {
     "name": "stdout",
     "output_type": "stream",
     "text": [
      "Welcome to the website!\n",
      "Do you already have an account? (yes/no)yes\n",
      "Please wait patiently until directed to login page.\n",
      "Type in you usernamecogs18\n",
      "Type in your password········\n",
      "Login sucessful!\n"
     ]
    }
   ],
   "source": [
    "print(\"Welcome to the website!\")\n",
    "    \n",
    "# This code serves the purpose of the main page\n",
    "if input(\"Do you already have an account? (yes/no)\") == \"yes\":\n",
    "    print(\"Please wait patiently until directed to login page.\")\n",
    "        \n",
    "    # If an account exists, it will lead directly to login page through login function\n",
    "    login()\n",
    "   \n",
    "else:\n",
    "    print(\"Please wait patiently until directed to sign up page.\")\n",
    "        \n",
    "    # If there is no account, it will ask user to signup and login\n",
    "    sign_up()\n",
    "    login()\n",
    "\n",
    "\n",
    "        "
   ]
  },
  {
   "cell_type": "code",
   "execution_count": null,
   "metadata": {},
   "outputs": [],
   "source": []
  },
  {
   "cell_type": "code",
   "execution_count": null,
   "metadata": {},
   "outputs": [],
   "source": []
  },
  {
   "cell_type": "markdown",
   "metadata": {},
   "source": [
    "#### Extra Credit (*optional*)\n",
    "\n",
    "I have never learned Python before. This project was more exciting than I expected because I did project on what I really wanted to program instead of easy codes. I wanted to develop a website login page that resembles real ones. Thus, I had to study getpass functions to add security to password and string methods used with loops and if statements to make validation process more complicated. I also learned the concept of global keyword which helped me with dictionary usage among functions."
   ]
  },
  {
   "cell_type": "code",
   "execution_count": null,
   "metadata": {},
   "outputs": [],
   "source": []
  }
 ],
 "metadata": {
  "kernelspec": {
   "display_name": "Python 3",
   "language": "python",
   "name": "python3"
  },
  "language_info": {
   "codemirror_mode": {
    "name": "ipython",
    "version": 3
   },
   "file_extension": ".py",
   "mimetype": "text/x-python",
   "name": "python",
   "nbconvert_exporter": "python",
   "pygments_lexer": "ipython3",
   "version": "3.7.6"
  }
 },
 "nbformat": 4,
 "nbformat_minor": 2
}
